{
 "cells": [
  {
   "cell_type": "code",
   "execution_count": 1,
   "id": "27a4956d",
   "metadata": {},
   "outputs": [],
   "source": [
    "import pandas as pd\n",
    "pd.set_option('display.max_colwidth', None) # will display full text in row\n",
    "import os, re, string\n",
    "from time import time\n",
    "import tensorflow as tf\n",
    "import nltk\n",
    "#nltk.download(['punkt', 'stopwords', 'averaged_perceptron_tagger', 'wordnet'], quiet=True)\n",
    "from transformers import pipeline\n",
    "from sklearn.model_selection import train_test_split\n",
    "from nltk.translate.bleu_score import corpus_bleu, sentence_bleu\n",
    "from rouge import Rouge\n",
    "from clean_text import clean_text\n",
    "import warnings\n",
    "warnings.simplefilter(action='ignore', category=FutureWarning)"
   ]
  },
  {
   "cell_type": "markdown",
   "id": "523cbb4a",
   "metadata": {},
   "source": [
    "### Get IMDB Movie Review dataset"
   ]
  },
  {
   "cell_type": "code",
   "execution_count": 2,
   "id": "1853dacb",
   "metadata": {},
   "outputs": [],
   "source": [
    "# data stored locally, alternatively use function under .utils.download_imdb_data()\n",
    "df = pd.read_csv('../datasets/IMDB Dataset.csv')"
   ]
  },
  {
   "cell_type": "code",
   "execution_count": 3,
   "id": "155d2f01",
   "metadata": {},
   "outputs": [
    {
     "name": "stdout",
     "output_type": "stream",
     "text": [
      "(50000, 2)\n"
     ]
    }
   ],
   "source": [
    "print(df.shape)"
   ]
  },
  {
   "cell_type": "markdown",
   "id": "2fee964e",
   "metadata": {},
   "source": [
    "### Restrict to data subset (n=5000)"
   ]
  },
  {
   "cell_type": "code",
   "execution_count": 4,
   "id": "16dd5142",
   "metadata": {},
   "outputs": [],
   "source": [
    "df = df.sample(n=5000, random_state=999).reset_index(drop=True)"
   ]
  },
  {
   "cell_type": "markdown",
   "id": "171f0e9d",
   "metadata": {},
   "source": [
    "### Clean data\n",
    "\n",
    "We'll create two versions of cleaned reviews: one that only converts numbers to words, removes sentence breaks, and small grammatical errors. This version leaves punctuation. A second version performs these modifications, but also removes stop words, punctuation, and lemmatizes words. Both versions lowercase all words for consistency."
   ]
  },
  {
   "cell_type": "code",
   "execution_count": 5,
   "id": "f9e62358",
   "metadata": {},
   "outputs": [],
   "source": [
    "df.rename(columns={'review': 'orig'}, inplace=True)"
   ]
  },
  {
   "cell_type": "code",
   "execution_count": 6,
   "id": "ae90db61",
   "metadata": {},
   "outputs": [],
   "source": [
    "df['clean'] = clean_text().run(df['orig'], no_stop_words=False, remove_punctuation=False, lemmatize=False)"
   ]
  },
  {
   "cell_type": "code",
   "execution_count": 7,
   "id": "1da0d5be",
   "metadata": {},
   "outputs": [
    {
     "name": "stdout",
     "output_type": "stream",
     "text": [
      "MST 3000 should do this movie. It is the worst acted movie I have ever seen. First of all, you find out that the shooter has no bank account and no history since leaving the army in 1993 and pays his rent in cash. There is no way in hell that a person like that would ever be allowed to be that close to a president not to mention a high profile job. Also, the head of security for the POTHUS would not be so emotional that he would start drinking into a haze if the president was shot. This movie sucked. I cannot express the extremite that this movie was. Every single actor was terrible. Even the chick at the trailer park. I crap on this garbage. What a waste of time.\n"
     ]
    }
   ],
   "source": [
    "print(df['orig'][0])"
   ]
  },
  {
   "cell_type": "code",
   "execution_count": 8,
   "id": "5428472e",
   "metadata": {},
   "outputs": [
    {
     "name": "stdout",
     "output_type": "stream",
     "text": [
      "mst three thousand should do this movie. it is the worst acted movie i have ever seen. first of all, you find out that the shooter has no bank account and no history since leaving the army in one thousand, nine hundred and ninety-three and pays his rent in cash. there is no way in hell that a person like that would ever be allowed to be that close to a president not to mention a high profile job. also, the head of security for the pothus would not be so emotional that he would start drinking into a haze if the president was shot. this movie sucked. i cannot express the extremite that this movie was. every single actor was terrible. even the chick at the trailer park. i crap on this garbage. what a waste of time.\n"
     ]
    }
   ],
   "source": [
    "print(df['clean'][0])"
   ]
  },
  {
   "cell_type": "code",
   "execution_count": 9,
   "id": "e74b9636",
   "metadata": {},
   "outputs": [
    {
     "name": "stdout",
     "output_type": "stream",
     "text": [
      "Total time: 103.0 seconds\n"
     ]
    }
   ],
   "source": [
    "# Without stop words, and lemmatizing words\n",
    "# Lemmatization takes some time..\n",
    "start = time()\n",
    "df['cleaner'] = clean_text().run(df['orig'], no_stop_words=True, remove_punctuation=True, lemmatize=True)\n",
    "print('Total time:', round(time() - start, 0), 'seconds')"
   ]
  },
  {
   "cell_type": "code",
   "execution_count": 10,
   "id": "2a581938",
   "metadata": {},
   "outputs": [
    {
     "data": {
      "text/plain": [
       "'mst three thousand movie bad act movie ever see first find shooter bank account history since leave army one thousand nine hundred ninety-three pay rent cash way hell person like would ever allow close president mention high profile job also head security pothus would emotional would start drinking haze president shot movie suck can not express extremite movie every single actor terrible even chick trailer park crap garbage waste time'"
      ]
     },
     "execution_count": 10,
     "metadata": {},
     "output_type": "execute_result"
    }
   ],
   "source": [
    "df['cleaner'][0]"
   ]
  },
  {
   "cell_type": "markdown",
   "id": "36de52c2",
   "metadata": {},
   "source": [
    "### TF-IDF"
   ]
  },
  {
   "cell_type": "code",
   "execution_count": 11,
   "id": "ba42269e",
   "metadata": {},
   "outputs": [],
   "source": [
    "from sklearn.feature_extraction.text import TfidfVectorizer\n",
    "vectorizer = TfidfVectorizer()"
   ]
  },
  {
   "cell_type": "code",
   "execution_count": 12,
   "id": "39afd223",
   "metadata": {},
   "outputs": [],
   "source": [
    "vectors = vectorizer.fit_transform(df['cleaner'].tolist()) # scipy.sparse.csr.csr_matrix\n",
    "feature_names = vectorizer.get_feature_names()\n",
    "dense = vectors.todense()\n",
    "denselist = dense.tolist()"
   ]
  },
  {
   "cell_type": "code",
   "execution_count": 13,
   "id": "af09507c",
   "metadata": {},
   "outputs": [],
   "source": [
    "# Create lookup dict for each document's words\n",
    "tfidf_dict = {}\n",
    "for doc in range(len(denselist)):\n",
    "    positions = [idx for idx, val in enumerate(denselist[doc]) if val > 0] # get index if word in document, i.e. > 0 tf-idf\n",
    "    values = [val for val in denselist[doc] if val > 0] # tf-idf values in doc\n",
    "    words = [feature_names[i] for i in positions] # words themselves\n",
    "    tfidf_dict[doc] = dict(zip(words, values))"
   ]
  },
  {
   "cell_type": "code",
   "execution_count": 14,
   "id": "472b093b",
   "metadata": {},
   "outputs": [
    {
     "data": {
      "text/plain": [
       "{'account': 0.14912465763153843,\n",
       " 'act': 0.05969006877501036,\n",
       " 'actor': 0.06806123278147211,\n",
       " 'allow': 0.11958192703788867,\n",
       " 'also': 0.06226235135818268,\n",
       " 'army': 0.1406273709624444,\n",
       " 'bad': 0.056766053164434956,\n",
       " 'bank': 0.1452845414326214,\n",
       " 'can': 0.07285073684364074,\n",
       " 'cash': 0.1406273709624444,\n",
       " 'chick': 0.1423914844101084,\n",
       " 'close': 0.1043565458430218,\n",
       " 'crap': 0.11162874481253006,\n",
       " 'drinking': 0.15507698793293076,\n",
       " 'emotional': 0.12829586249867486,\n",
       " 'even': 0.053984862609809316,\n",
       " 'ever': 0.1365432679149389,\n",
       " 'every': 0.07768137046790471,\n",
       " 'express': 0.14740904448424874,\n",
       " 'extremite': 0.22952484656021518,\n",
       " 'find': 0.07244455544104945,\n",
       " 'first': 0.06087478486823326,\n",
       " 'garbage': 0.13139268021743922,\n",
       " 'haze': 0.19693960036262706,\n",
       " 'head': 0.09624693846802221,\n",
       " 'hell': 0.10961140057074911,\n",
       " 'high': 0.09217110148804472,\n",
       " 'history': 0.10961140057074911,\n",
       " 'hundred': 0.08268280087294669,\n",
       " 'job': 0.09203906717633571,\n",
       " 'leave': 0.10261844570241098,\n",
       " 'like': 0.044348638821792984,\n",
       " 'mention': 0.10321871934782362,\n",
       " 'movie': 0.1482451861317991,\n",
       " 'mst': 0.19040273526964382,\n",
       " 'nine': 0.08539268316974308,\n",
       " 'ninety': 0.10726204520184214,\n",
       " 'not': 0.07304036614202015,\n",
       " 'one': 0.038483536551642335,\n",
       " 'park': 0.13667878976394415,\n",
       " 'pay': 0.11570832784328879,\n",
       " 'person': 0.09980880652186493,\n",
       " 'pothus': 0.22952484656021518,\n",
       " 'president': 0.30066935193513666,\n",
       " 'profile': 0.19040273526964382,\n",
       " 'rent': 0.10372975157250959,\n",
       " 'security': 0.15434424360327972,\n",
       " 'see': 0.04407638259521558,\n",
       " 'shooter': 0.20094916799833848,\n",
       " 'shot': 0.08802009411526254,\n",
       " 'since': 0.08468828838355734,\n",
       " 'single': 0.11522213231270839,\n",
       " 'start': 0.07849005851151865,\n",
       " 'suck': 0.11901849626656669,\n",
       " 'terrible': 0.10271753421673936,\n",
       " 'thousand': 0.1674279816571758,\n",
       " 'three': 0.15682389646386835,\n",
       " 'time': 0.0502159947140527,\n",
       " 'trailer': 0.134908671305621,\n",
       " 'waste': 0.09237041819940557,\n",
       " 'way': 0.06180528250592138,\n",
       " 'would': 0.15466717101277383}"
      ]
     },
     "execution_count": 14,
     "metadata": {},
     "output_type": "execute_result"
    }
   ],
   "source": [
    "tfidf_dict[0]"
   ]
  }
 ],
 "metadata": {
  "kernelspec": {
   "display_name": "Python 3 (ipykernel)",
   "language": "python",
   "name": "python3"
  },
  "language_info": {
   "codemirror_mode": {
    "name": "ipython",
    "version": 3
   },
   "file_extension": ".py",
   "mimetype": "text/x-python",
   "name": "python",
   "nbconvert_exporter": "python",
   "pygments_lexer": "ipython3",
   "version": "3.9.6"
  }
 },
 "nbformat": 4,
 "nbformat_minor": 5
}
