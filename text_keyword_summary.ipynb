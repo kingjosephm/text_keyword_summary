{
 "cells": [
  {
   "cell_type": "code",
   "execution_count": 1,
   "id": "27a4956d",
   "metadata": {},
   "outputs": [],
   "source": [
    "import pandas as pd\n",
    "pd.set_option('display.max_colwidth', None) # will display full text in row\n",
    "from collections import defaultdict\n",
    "import numpy as np\n",
    "import os, re, string\n",
    "from time import time\n",
    "import tensorflow as tf\n",
    "import nltk\n",
    "#nltk.download(['punkt', 'stopwords', 'averaged_perceptron_tagger', 'wordnet'], quiet=True)\n",
    "from transformers import pipeline\n",
    "from sklearn.model_selection import train_test_split\n",
    "from nltk.translate.bleu_score import corpus_bleu, sentence_bleu\n",
    "from rouge import Rouge\n",
    "from clean_text import clean_text\n",
    "import warnings\n",
    "warnings.simplefilter(action='ignore', category=FutureWarning)\n",
    "import seaborn as sns\n",
    "import matplotlib.pyplot as plt\n",
    "from wordcloud import WordCloud"
   ]
  },
  {
   "cell_type": "markdown",
   "id": "523cbb4a",
   "metadata": {},
   "source": [
    "## Get IMDB Movie Review dataset"
   ]
  },
  {
   "cell_type": "code",
   "execution_count": 2,
   "id": "dddf68e8",
   "metadata": {},
   "outputs": [],
   "source": [
    "# data stored locally, alternatively use function under .utils.download_imdb_data()\n",
    "orig = pd.read_csv('../datasets/IMDB Dataset.csv')"
   ]
  },
  {
   "cell_type": "code",
   "execution_count": 3,
   "id": "059a7cfd",
   "metadata": {},
   "outputs": [
    {
     "name": "stdout",
     "output_type": "stream",
     "text": [
      "(50000, 2)\n"
     ]
    }
   ],
   "source": [
    "print(orig.shape)"
   ]
  },
  {
   "cell_type": "markdown",
   "id": "2fee964e",
   "metadata": {},
   "source": [
    "#### Restrict to data subset (n=5000)"
   ]
  },
  {
   "cell_type": "code",
   "execution_count": 4,
   "id": "16dd5142",
   "metadata": {},
   "outputs": [],
   "source": [
    "orig = orig.sample(n=5000, random_state=999).reset_index(drop=True)"
   ]
  },
  {
   "cell_type": "markdown",
   "id": "171f0e9d",
   "metadata": {},
   "source": [
    "## Clean data\n",
    "\n",
    "We'll create three versions of cleaned reviews: one that only converts numbers to words, removes sentence breaks, and small grammatical errors. This version leaves punctuation. A second version performs these modifications, but also removes stop words, punctuation, and lemmatizes words. Both versions lowercase all words for consistency. Finally, a third version that removes extremely infrequent words, defined as those only present once in the corpus (e.g. misspellings)."
   ]
  },
  {
   "cell_type": "code",
   "execution_count": 5,
   "id": "526dc89a",
   "metadata": {},
   "outputs": [],
   "source": [
    "orig.rename(columns={'review': 'orig'}, inplace=True)"
   ]
  },
  {
   "cell_type": "code",
   "execution_count": 6,
   "id": "a1aefdcd",
   "metadata": {},
   "outputs": [],
   "source": [
    "processed = pd.DataFrame(clean_text().run(orig['orig'], no_stop_words=False, \n",
    "                         remove_punctuation=False, lemmatize=False).rename('clean')) # returns pd.Series"
   ]
  },
  {
   "cell_type": "code",
   "execution_count": 7,
   "id": "2a6edf06",
   "metadata": {},
   "outputs": [
    {
     "name": "stdout",
     "output_type": "stream",
     "text": [
      "MST 3000 should do this movie. It is the worst acted movie I have ever seen. First of all, you find out that the shooter has no bank account and no history since leaving the army in 1993 and pays his rent in cash. There is no way in hell that a person like that would ever be allowed to be that close to a president not to mention a high profile job. Also, the head of security for the POTHUS would not be so emotional that he would start drinking into a haze if the president was shot. This movie sucked. I cannot express the extremite that this movie was. Every single actor was terrible. Even the chick at the trailer park. I crap on this garbage. What a waste of time.\n"
     ]
    }
   ],
   "source": [
    "print(orig['orig'][0])"
   ]
  },
  {
   "cell_type": "code",
   "execution_count": 8,
   "id": "c4d314cd",
   "metadata": {},
   "outputs": [
    {
     "name": "stdout",
     "output_type": "stream",
     "text": [
      "mst three thousand should do this movie. it is the worst acted movie i have ever seen. first of all, you find out that the shooter has no bank account and no history since leaving the army in one thousand, nine hundred and ninety-three and pays his rent in cash. there is no way in hell that a person like that would ever be allowed to be that close to a president not to mention a high profile job. also, the head of security for the pothus would not be so emotional that he would start drinking into a haze if the president was shot. this movie sucked. i cannot express the extremite that this movie was. every single actor was terrible. even the chick at the trailer park. i crap on this garbage. what a waste of time.\n"
     ]
    }
   ],
   "source": [
    "print(processed['clean'][0])"
   ]
  },
  {
   "cell_type": "code",
   "execution_count": 9,
   "id": "1b8400db",
   "metadata": {},
   "outputs": [
    {
     "name": "stdout",
     "output_type": "stream",
     "text": [
      "Total time: 109.0 seconds\n"
     ]
    }
   ],
   "source": [
    "# Remove stop words, punctuation, and lemmatize (which takes some time)\n",
    "start = time()\n",
    "processed['cleaner'] = clean_text().run(orig['orig'], no_stop_words=True, remove_punctuation=True, lemmatize=True)\n",
    "print('Total time:', round(time() - start, 0), 'seconds')"
   ]
  },
  {
   "cell_type": "code",
   "execution_count": 10,
   "id": "e58d14d1",
   "metadata": {},
   "outputs": [
    {
     "data": {
      "text/plain": [
       "'mst three thousand movie bad act movie ever see first find shooter bank account history since leave army one thousand nine hundred ninety-three pay rent cash way hell person like would ever allow close president mention high profile job also head security pothus would emotional would start drinking haze president shot movie suck can not express extremite movie every single actor terrible even chick trailer park crap garbage waste time'"
      ]
     },
     "execution_count": 10,
     "metadata": {},
     "output_type": "execute_result"
    }
   ],
   "source": [
    "processed['cleaner'][0]"
   ]
  },
  {
   "cell_type": "markdown",
   "id": "4194ecda",
   "metadata": {},
   "source": [
    "### Remove words only present once in corpus (e.g. misspellings)"
   ]
  },
  {
   "cell_type": "code",
   "execution_count": 11,
   "id": "dbd0c1d0",
   "metadata": {},
   "outputs": [],
   "source": [
    "def count_word_freq(series):\n",
    "    '''\n",
    "    Counts word frequency across all documents (rows) in a pd.Series.\n",
    "    :param series: pd.Series\n",
    "    :returns: pd.DataFrame, where index is each unique word in corpus and column is count of\n",
    "        the occurrence of that word across all documents.\n",
    "    '''\n",
    "    temp = [i.split() for i in series] \n",
    "    freq = defaultdict(int)  # Get freq of each word across all documents\n",
    "    for indiv_doc in temp:\n",
    "        for token in indiv_doc:\n",
    "            freq[token] += 1\n",
    "        \n",
    "    word_freq = pd.DataFrame.from_dict(freq, orient='index')\\\n",
    "        .reset_index().rename(columns={'index': 'word', 0: 'freq'})\n",
    "    return word_freq"
   ]
  },
  {
   "cell_type": "code",
   "execution_count": 12,
   "id": "d92703ad",
   "metadata": {},
   "outputs": [],
   "source": [
    "word_freq = count_word_freq(processed['cleaner'])"
   ]
  },
  {
   "cell_type": "code",
   "execution_count": 13,
   "id": "768484aa",
   "metadata": {},
   "outputs": [
    {
     "name": "stdout",
     "output_type": "stream",
     "text": [
      "count    32080.000000\n",
      "mean        18.530393\n",
      "std        136.825197\n",
      "min          1.000000\n",
      "25%          1.000000\n",
      "50%          2.000000\n",
      "75%          6.000000\n",
      "max      10438.000000\n",
      "Name: freq, dtype: float64\n"
     ]
    }
   ],
   "source": [
    "print(word_freq['freq'].describe())"
   ]
  },
  {
   "cell_type": "code",
   "execution_count": 14,
   "id": "cdcb834d",
   "metadata": {},
   "outputs": [
    {
     "name": "stdout",
     "output_type": "stream",
     "text": [
      "Number of words that appear only once in corpus: 13728\n"
     ]
    }
   ],
   "source": [
    "print(f\"Number of words that appear only once in corpus: {len(word_freq[word_freq['freq']==1])}\")"
   ]
  },
  {
   "cell_type": "code",
   "execution_count": 15,
   "id": "2ee5dec5",
   "metadata": {},
   "outputs": [
    {
     "name": "stdout",
     "output_type": "stream",
     "text": [
      "Some examples of rare words:\n"
     ]
    },
    {
     "data": {
      "text/plain": [
       "39            pothus\n",
       "49         extremite\n",
       "102     jealousblind\n",
       "156     miscalculate\n",
       "183      reintroduce\n",
       "226           tardis\n",
       "312         hartnell\n",
       "314          davison\n",
       "420           pimped\n",
       "454    entertainerer\n",
       "457        entourage\n",
       "469           spicey\n",
       "534          trimspa\n",
       "535      spokeswoman\n",
       "610          mcquaid\n",
       "704           survey\n",
       "710       bulldosers\n",
       "713          clocked\n",
       "719         vaporize\n",
       "726              yds\n",
       "Name: word, dtype: object"
      ]
     },
     "execution_count": 15,
     "metadata": {},
     "output_type": "execute_result"
    }
   ],
   "source": [
    "print('Some examples of rare words:')\n",
    "word_freq[word_freq['freq']==1]['word'].head(20)"
   ]
  },
  {
   "cell_type": "code",
   "execution_count": 16,
   "id": "5d3fe41d",
   "metadata": {},
   "outputs": [],
   "source": [
    "processed['cleanest'] = clean_text().remove_infreq_words(processed['cleaner'], 1)"
   ]
  },
  {
   "cell_type": "code",
   "execution_count": 17,
   "id": "1ad28127",
   "metadata": {},
   "outputs": [
    {
     "data": {
      "text/html": [
       "<div>\n",
       "<style scoped>\n",
       "    .dataframe tbody tr th:only-of-type {\n",
       "        vertical-align: middle;\n",
       "    }\n",
       "\n",
       "    .dataframe tbody tr th {\n",
       "        vertical-align: top;\n",
       "    }\n",
       "\n",
       "    .dataframe thead th {\n",
       "        text-align: right;\n",
       "    }\n",
       "</style>\n",
       "<table border=\"1\" class=\"dataframe\">\n",
       "  <thead>\n",
       "    <tr style=\"text-align: right;\">\n",
       "      <th></th>\n",
       "      <th>freq</th>\n",
       "    </tr>\n",
       "  </thead>\n",
       "  <tbody>\n",
       "    <tr>\n",
       "      <th>count</th>\n",
       "      <td>18352.000000</td>\n",
       "    </tr>\n",
       "    <tr>\n",
       "      <th>mean</th>\n",
       "      <td>31.643799</td>\n",
       "    </tr>\n",
       "    <tr>\n",
       "      <th>std</th>\n",
       "      <td>179.789204</td>\n",
       "    </tr>\n",
       "    <tr>\n",
       "      <th>min</th>\n",
       "      <td>2.000000</td>\n",
       "    </tr>\n",
       "    <tr>\n",
       "      <th>25%</th>\n",
       "      <td>3.000000</td>\n",
       "    </tr>\n",
       "    <tr>\n",
       "      <th>50%</th>\n",
       "      <td>5.000000</td>\n",
       "    </tr>\n",
       "    <tr>\n",
       "      <th>75%</th>\n",
       "      <td>15.000000</td>\n",
       "    </tr>\n",
       "    <tr>\n",
       "      <th>max</th>\n",
       "      <td>10438.000000</td>\n",
       "    </tr>\n",
       "  </tbody>\n",
       "</table>\n",
       "</div>"
      ],
      "text/plain": [
       "               freq\n",
       "count  18352.000000\n",
       "mean      31.643799\n",
       "std      179.789204\n",
       "min        2.000000\n",
       "25%        3.000000\n",
       "50%        5.000000\n",
       "75%       15.000000\n",
       "max    10438.000000"
      ]
     },
     "execution_count": 17,
     "metadata": {},
     "output_type": "execute_result"
    }
   ],
   "source": [
    "count_word_freq(processed['cleanest']).describe()"
   ]
  },
  {
   "cell_type": "markdown",
   "id": "825f271e",
   "metadata": {},
   "source": [
    "## TF-IDF\n",
    "\n",
    "[Term frequency-inverse document frequency](https://en.wikipedia.org/wiki/Tf%E2%80%93idf) is a statistic reflecting a given word's importance to a particular document in a collection of documents (i.e. a corpus). This statistic is bounded between 0 and 1, with higher scores indicating a given word is comparably rarer (i.e. more salient) in a particular document. This metric is commonly used to extract keywords about a text."
   ]
  },
  {
   "cell_type": "code",
   "execution_count": 18,
   "id": "9c562e8c",
   "metadata": {},
   "outputs": [],
   "source": [
    "from sklearn.feature_extraction.text import TfidfVectorizer\n",
    "vectorizer = TfidfVectorizer()"
   ]
  },
  {
   "cell_type": "code",
   "execution_count": 19,
   "id": "f7c0e6cb",
   "metadata": {},
   "outputs": [],
   "source": [
    "vectors = vectorizer.fit_transform(processed['cleanest'].tolist()) # scipy.sparse.csr.csr_matrix\n",
    "feature_names = vectorizer.get_feature_names()\n",
    "dense = vectors.todense()\n",
    "denselist = dense.tolist()"
   ]
  },
  {
   "cell_type": "code",
   "execution_count": 20,
   "id": "e48fc75e",
   "metadata": {},
   "outputs": [
    {
     "name": "stdout",
     "output_type": "stream",
     "text": [
      "Total time: 9.0 seconds\n"
     ]
    }
   ],
   "source": [
    "# Lookup dict for each document's words\n",
    "# Note - sklearn's TfidfVectorizer smoothes the IDF function, resulting in fewer words per document than orig\n",
    "start = time()\n",
    "tfidf_dict = {}\n",
    "tfidf_values = []\n",
    "for doc in range(len(denselist)):\n",
    "    positions = [idx for idx, val in enumerate(denselist[doc]) if val > 0] # get index if word in document, i.e. > 0 tf-idf\n",
    "    values = [val for val in denselist[doc] if val > 0] # tf-idf values in doc\n",
    "    words = [feature_names[i] for i in positions] # words themselves\n",
    "    tfidf_dict[doc] = dict(zip(words, values))\n",
    "    tfidf_values += values # TF-IDF values for all words in all documents\n",
    "print('Total time:', round(time() - start, 0), 'seconds')"
   ]
  },
  {
   "cell_type": "code",
   "execution_count": 21,
   "id": "46e4109a",
   "metadata": {
    "scrolled": true
   },
   "outputs": [
    {
     "data": {
      "text/plain": [
       "{'account': 0.15766166445475302,\n",
       " 'act': 0.0631071731794978,\n",
       " 'actor': 0.07195756500365545,\n",
       " 'allow': 0.12642768778107846,\n",
       " 'also': 0.06582671238885487,\n",
       " 'army': 0.1486779297667666,\n",
       " 'bad': 0.06001576512279624,\n",
       " 'bank': 0.15360171138437043,\n",
       " 'can': 0.07702125597433372,\n",
       " 'cash': 0.1486779297667666,\n",
       " 'chick': 0.15054303421604515,\n",
       " 'close': 0.1103306922924321,\n",
       " 'crap': 0.11801920613037656,\n",
       " 'drinking': 0.16395475050508776,\n",
       " 'emotional': 0.13564047385226868,\n",
       " 'even': 0.05707535849271671,\n",
       " 'ever': 0.14436002222215766,\n",
       " 'every': 0.0821284310697787,\n",
       " 'express': 0.15584783682451311,\n",
       " 'find': 0.07659182172100361,\n",
       " 'first': 0.06435971125154062,\n",
       " 'garbage': 0.13891457649771943,\n",
       " 'haze': 0.20821389087071354,\n",
       " 'head': 0.10175683055069308,\n",
       " 'hell': 0.11588637406900638,\n",
       " 'high': 0.09744766228492414,\n",
       " 'history': 0.11588637406900638,\n",
       " 'hundred': 0.08741618062667532,\n",
       " 'job': 0.09730806934516623,\n",
       " 'leave': 0.10849309034577867,\n",
       " 'like': 0.04688748543666598,\n",
       " 'mention': 0.10912772812847131,\n",
       " 'movie': 0.15673184545170107,\n",
       " 'mst': 0.20130280690080174,\n",
       " 'nine': 0.09028119678278973,\n",
       " 'ninety': 0.11340252408912722,\n",
       " 'not': 0.0772217410670523,\n",
       " 'one': 0.0406866210001884,\n",
       " 'park': 0.14450330235183914,\n",
       " 'pay': 0.12233233489879264,\n",
       " 'person': 0.10552260647840452,\n",
       " 'president': 0.3178819065171155,\n",
       " 'profile': 0.20130280690080174,\n",
       " 'rent': 0.10966801564640198,\n",
       " 'security': 0.16318005842889194,\n",
       " 'see': 0.04659964323456402,\n",
       " 'shooter': 0.21245299604104773,\n",
       " 'shot': 0.0930590203128243,\n",
       " 'since': 0.08953647718921524,\n",
       " 'single': 0.12181830591244508,\n",
       " 'start': 0.08298341444413025,\n",
       " 'suck': 0.12583200203317796,\n",
       " 'terrible': 0.10859785142517013,\n",
       " 'thousand': 0.17701280716159368,\n",
       " 'three': 0.16580166509997885,\n",
       " 'time': 0.053090732509378305,\n",
       " 'trailer': 0.14263184912033622,\n",
       " 'waste': 0.09765838937034313,\n",
       " 'way': 0.06534347750897342,\n",
       " 'would': 0.16352147261007116}"
      ]
     },
     "execution_count": 21,
     "metadata": {},
     "output_type": "execute_result"
    }
   ],
   "source": [
    "tfidf_dict[0]"
   ]
  },
  {
   "cell_type": "code",
   "execution_count": 22,
   "id": "6f5058ff",
   "metadata": {},
   "outputs": [
    {
     "data": {
      "text/plain": [
       "{'president': 0.3178819065171155,\n",
       " 'shooter': 0.21245299604104773,\n",
       " 'haze': 0.20821389087071354,\n",
       " 'mst': 0.20130280690080174,\n",
       " 'profile': 0.20130280690080174}"
      ]
     },
     "execution_count": 22,
     "metadata": {},
     "output_type": "execute_result"
    }
   ],
   "source": [
    "# Top 5 most important words according to TF-IDF of first document\n",
    "dict(sorted(tfidf_dict[0].items(), key=lambda item: item[1], reverse=True)[:5])"
   ]
  },
  {
   "cell_type": "code",
   "execution_count": 23,
   "id": "9774ee1c",
   "metadata": {},
   "outputs": [
    {
     "data": {
      "text/plain": [
       "452315"
      ]
     },
     "execution_count": 23,
     "metadata": {},
     "output_type": "execute_result"
    }
   ],
   "source": [
    "len(tfidf_values)"
   ]
  },
  {
   "cell_type": "markdown",
   "id": "b6a8ae35",
   "metadata": {},
   "source": [
    "### Distribution of TF-IDF values"
   ]
  },
  {
   "cell_type": "code",
   "execution_count": 24,
   "id": "0bedb48b",
   "metadata": {},
   "outputs": [
    {
     "data": {
      "image/png": "[encoded data removed]",
      "text/plain": [
       "<Figure size 432x288 with 1 Axes>"
      ]
     },
     "metadata": {
      "needs_background": "light"
     },
     "output_type": "display_data"
    }
   ],
   "source": [
    "sns.kdeplot(tfidf_values)\n",
    "plt.xlabel('TF-IDF Value')\n",
    "plt.title(\"Distribution of TF-IDF Values in IMDB Move Review Dataset\")\n",
    "plt.show()"
   ]
  },
  {
   "cell_type": "code",
   "execution_count": 25,
   "id": "db8e988f",
   "metadata": {},
   "outputs": [
    {
     "data": {
      "text/plain": [
       "count    452315.000000\n",
       "mean          0.085898\n",
       "std           0.060628\n",
       "min           0.004709\n",
       "25%           0.046514\n",
       "50%           0.070770\n",
       "75%           0.107240\n",
       "max           0.871732\n",
       "dtype: float64"
      ]
     },
     "execution_count": 25,
     "metadata": {},
     "output_type": "execute_result"
    }
   ],
   "source": [
    "pd.Series(tfidf_values).describe()"
   ]
  },
  {
   "cell_type": "markdown",
   "id": "0665d325",
   "metadata": {},
   "source": [
    "### Restrict to top *n* keywords"
   ]
  },
  {
   "cell_type": "code",
   "execution_count": 26,
   "id": "df6e6225",
   "metadata": {},
   "outputs": [],
   "source": [
    "def top_n_keywords(dictionary, n=10):\n",
    "    '''\n",
    "    Restricts to top n most important words per document, returning this as pd.Series\n",
    "    :param dictionary: dict, tf-idf dictionary where each subdictionary pertains to an individual document\n",
    "    :param n: int, number of top keywords to limit to\n",
    "    :returns: pd.Series\n",
    "    '''\n",
    "    key_wds = []\n",
    "    for i in range(len(dictionary)):\n",
    "        key_wds.append(list(dict(sorted(dictionary[i].items(), key=lambda item: item[1], reverse=True)[:n]).keys()))\n",
    "    return pd.Series(key_wds)"
   ]
  },
  {
   "cell_type": "code",
   "execution_count": 27,
   "id": "689f4320",
   "metadata": {},
   "outputs": [],
   "source": [
    "processed['tfidf_top10'] = top_n_keywords(tfidf_dict, n=10)"
   ]
  },
  {
   "cell_type": "code",
   "execution_count": 28,
   "id": "a6d962bd",
   "metadata": {},
   "outputs": [],
   "source": [
    "def top_n_values(dictionary, n=10):\n",
    "    '''\n",
    "    Gets TF-IDF values among top n most important words\n",
    "    :dictionary: dict, tf-idf dictionary where each \n",
    "    '''\n",
    "    vals = []\n",
    "    for i in range(len(dictionary)):\n",
    "        vals += list(dict(sorted(dictionary[i].items(), key=lambda item: item[1], reverse=True)[:n]).values())\n",
    "    return pd.Series(vals)"
   ]
  },
  {
   "cell_type": "code",
   "execution_count": 29,
   "id": "afb175e0",
   "metadata": {},
   "outputs": [
    {
     "data": {
      "text/plain": [
       "count    49994.000000\n",
       "mean         0.207826\n",
       "std          0.083977\n",
       "min          0.068449\n",
       "25%          0.156373\n",
       "50%          0.185607\n",
       "75%          0.232197\n",
       "max          0.871732\n",
       "dtype: float64"
      ]
     },
     "execution_count": 29,
     "metadata": {},
     "output_type": "execute_result"
    }
   ],
   "source": [
    "top_n_values(tfidf_dict, n=10).describe()"
   ]
  },
  {
   "cell_type": "markdown",
   "id": "626db242",
   "metadata": {},
   "source": [
    "### Filter top keywords using minimum TF-IDF score\n",
    "\n",
    "As indicated above, some of the top 10 keywords have low TF-IDF scores, meaning few of the words in a given review are meaningful according to this metric. To remove these, the function below defines keywords based on a percentile of the TF-IDF distribution"
   ]
  },
  {
   "cell_type": "code",
   "execution_count": 30,
   "id": "5f4c8b2a",
   "metadata": {},
   "outputs": [],
   "source": [
    "def filter_top_keywords(dictionary, filter_val=0.2, max_keywords=10):\n",
    "    filtered_words = []\n",
    "    for i in range(len(dictionary)):\n",
    "        words = [key for key, val in dictionary[i].items() if val > filter_val]\n",
    "        if len(words) == 0: # Take top words if none meet threshold\n",
    "            words = list(dict(sorted(dictionary[i].items(), key=lambda item: item[1], reverse=True)[:1]).keys())\n",
    "        words = words[:max_keywords]\n",
    "        filtered_words.append(words)\n",
    "    return pd.Series(filtered_words)"
   ]
  },
  {
   "cell_type": "code",
   "execution_count": 31,
   "id": "2c758aeb",
   "metadata": {},
   "outputs": [],
   "source": [
    "filter_val = np.percentile(pd.Series(tfidf_values), 90)\n",
    "processed['tfidf_90pct'] = filter_top_keywords(tfidf_dict, filter_val=filter_val)"
   ]
  },
  {
   "cell_type": "code",
   "execution_count": 32,
   "id": "3c5d275d",
   "metadata": {},
   "outputs": [
    {
     "data": {
      "text/plain": [
       "count    5000.000000\n",
       "mean        7.651600\n",
       "std         2.525449\n",
       "min         1.000000\n",
       "25%         6.000000\n",
       "50%         8.000000\n",
       "75%        10.000000\n",
       "max        10.000000\n",
       "Name: tfidf_90pct, dtype: float64"
      ]
     },
     "execution_count": 32,
     "metadata": {},
     "output_type": "execute_result"
    }
   ],
   "source": [
    "processed['tfidf_90pct'].apply(lambda x: len(x)).describe()"
   ]
  }
 ],
 "metadata": {
  "kernelspec": {
   "display_name": "Python 3 (ipykernel)",
   "language": "python",
   "name": "python3"
  },
  "language_info": {
   "codemirror_mode": {
    "name": "ipython",
    "version": 3
   },
   "file_extension": ".py",
   "mimetype": "text/x-python",
   "name": "python",
   "nbconvert_exporter": "python",
   "pygments_lexer": "ipython3",
   "version": "3.9.6"
  }
 },
 "nbformat": 4,
 "nbformat_minor": 5
}
